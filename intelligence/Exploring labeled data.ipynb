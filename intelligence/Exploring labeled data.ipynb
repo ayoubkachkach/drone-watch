{
 "cells": [
  {
   "cell_type": "code",
   "execution_count": 17,
   "metadata": {},
   "outputs": [],
   "source": [
    "import collections\n",
    "\n",
    "from web.models import Article, DateEntity\n",
    "from nltk import sent_tokenize\n",
    "from django.shortcuts import _get_queryset"
   ]
  },
  {
   "cell_type": "code",
   "execution_count": 18,
   "metadata": {},
   "outputs": [],
   "source": [
    "articles = Article.objects.filter(is_ground_truth = 1, classification_score = 1)"
   ]
  },
  {
   "cell_type": "code",
   "execution_count": 19,
   "metadata": {},
   "outputs": [],
   "source": [
    "def get_object_or_None(klass, *args, **kwargs):\n",
    "    queryset = _get_queryset(klass)\n",
    "    try:\n",
    "        return queryset.get(*args, **kwargs)\n",
    "    except queryset.model.DoesNotExist:\n",
    "        return None"
   ]
  },
  {
   "cell_type": "markdown",
   "metadata": {},
   "source": [
    "<h1>Article classification</h1>"
   ]
  },
  {
   "cell_type": "code",
   "execution_count": 135,
   "metadata": {},
   "outputs": [],
   "source": [
    "import pandas as pd\n",
    "import re\n",
    "\n",
    "from sklearn.model_selection import train_test_split\n",
    "from sklearn import metrics"
   ]
  },
  {
   "cell_type": "code",
   "execution_count": 147,
   "metadata": {},
   "outputs": [
    {
     "name": "stdout",
     "output_type": "stream",
     "text": [
      "Articles labeled as strikes: 50.\n",
      "Rest: 107\n"
     ]
    }
   ],
   "source": [
    "df = pd.DataFrame.from_records(Article.objects.all().values()) # Load articles into df\n",
    "df = df.loc[df['is_ground_truth'] == 1] # Only keep labeled data\n",
    "df['classification_score'] = (df['classification_score'] >= 1).astype(bool) # Convert classification_score to bool\n",
    "df = df.sample(frac=1) # Shuffle\n",
    "print(\"Articles labeled as strikes: {}.\\nRest: {}\".format(positive_size, len(df) - positive_size))"
   ]
  },
  {
   "cell_type": "markdown",
   "metadata": {},
   "source": [
    "Split dataset into equal-sized classes"
   ]
  },
  {
   "cell_type": "code",
   "execution_count": 148,
   "metadata": {},
   "outputs": [
    {
     "name": "stdout",
     "output_type": "stream",
     "text": [
      "Articles labeled as strikes: 50.\n",
      "Rest: 107\n"
     ]
    }
   ],
   "source": [
    "positive = df.loc[df['classification_score'] == True]\n",
    "positive_size = positive.shape[0]\n",
    "negative = df.loc[df['classification_score'] == False].sample(positive_size)\n",
    "\n",
    "#df = pd.concat([positive, negative])\n",
    "df = df.sample(frac=1)\n",
    "\n",
    "print(\"Articles labeled as strikes: {}.\\nRest: {}\".format(positive_size, len(df) - positive_size))"
   ]
  },
  {
   "cell_type": "code",
   "execution_count": 149,
   "metadata": {},
   "outputs": [],
   "source": [
    "def classify(df, dictionary, size=None):\n",
    "    patterns = [re.compile('|'.join(r'{}'.format(word) for word in group), re.IGNORECASE) for group in dictionary]\n",
    "    return [any(pattern.search(article['body'][:size]) is not None for pattern in patterns) for _, article in df.iterrows()]"
   ]
  },
  {
   "cell_type": "code",
   "execution_count": 171,
   "metadata": {},
   "outputs": [],
   "source": [
    "stopwords = (('drone', 'uav'), ('strike',))\n",
    "pred_y = classify(df, stopwords, 150)\n",
    "true_y = df['classification_score']\n",
    "#X_train, X_test, y_train, y_test = train_test_split(X, y, test_size=0.33, random_state=42)"
   ]
  },
  {
   "cell_type": "code",
   "execution_count": 172,
   "metadata": {},
   "outputs": [
    {
     "data": {
      "text/plain": [
       "0.8726114649681529"
      ]
     },
     "execution_count": 172,
     "metadata": {},
     "output_type": "execute_result"
    }
   ],
   "source": [
    "metrics.accuracy_score(true_y, pred_y)"
   ]
  },
  {
   "cell_type": "code",
   "execution_count": 173,
   "metadata": {},
   "outputs": [
    {
     "name": "stdout",
     "output_type": "stream",
     "text": [
      "              precision    recall  f1-score   support\n",
      "\n",
      "       False       0.95      0.86      0.90       107\n",
      "        True       0.75      0.90      0.82        50\n",
      "\n",
      "   micro avg       0.87      0.87      0.87       157\n",
      "   macro avg       0.85      0.88      0.86       157\n",
      "weighted avg       0.89      0.87      0.88       157\n",
      "\n"
     ]
    }
   ],
   "source": [
    "print(metrics.classification_report(true_y, pred_y))"
   ]
  },
  {
   "cell_type": "code",
   "execution_count": 174,
   "metadata": {},
   "outputs": [
    {
     "name": "stdout",
     "output_type": "stream",
     "text": [
      "[[92 15]\n",
      " [ 5 45]]\n"
     ]
    }
   ],
   "source": [
    "print(metrics.confusion_matrix(true_y, pred_y))"
   ]
  },
  {
   "cell_type": "markdown",
   "metadata": {},
   "source": [
    "<h1>Data extraction:</h1>"
   ]
  },
  {
   "cell_type": "code",
   "execution_count": 20,
   "metadata": {},
   "outputs": [],
   "source": [
    "# Get sentence in which label appears in article\n",
    "def get_sentence_label(label, article=None):\n",
    "    if(not label):\n",
    "        return \"\"\n",
    "    if(not article):\n",
    "        article = label.seed\n",
    "    \n",
    "    len_read = 0\n",
    "    label = label.get_dict()\n",
    "    sentences = sent_tokenize(article.body)\n",
    "    for sentence in sentences:\n",
    "        if 0 < label['start_index'] - len_read < len(sentence):\n",
    "            return sentence\n",
    "        \n",
    "        len_read += len(sentence)\n",
    "        \n",
    "    return sentences[-1]"
   ]
  },
  {
   "cell_type": "code",
   "execution_count": 21,
   "metadata": {},
   "outputs": [
    {
     "name": "stdout",
     "output_type": "stream",
     "text": [
      "Counter({'the': 62, 'in': 39, 'of': 21, 'on': 20, 'carried': 17, 'said': 16, 'out': 16, 'airstrike': 12, 'was': 12, 'district.': 12, 'The': 11, 'were': 10, 'a': 9, 'Silab': 8, 'Corps': 8, 'statement': 8, 'Afghan': 7, 'late': 7, 'US': 7, '201st': 6, 'Wednesday': 6, 'militants': 6, 'According': 6, 'to': 6, 'Military': 5, 'East': 5, 'airstrikes': 5, 'killed': 5, 'vicinity': 5, 'district': 5, 'provincial': 5, 'government': 5, 'night': 5, 'Achin': 4, 'latest': 4, 'media': 4, 'drone': 4, 'least': 4, 'A': 4, 'area': 4, 'local': 4, 'officials,': 4, 'security': 4, 'that': 3, 'Thursday': 3, 'forces': 3, 'Haska': 3, 'Mina': 3, 'office': 3, 'past': 3, 'and': 3, 'strike': 3, 'Nangarhar': 3, 'officials': 3, 'by': 3, 'leaving': 3, 'dead.': 3, 'at': 3, 'Tuesday': 3, 'night.': 2, 'hours': 2, '24': 2, 'province': 2, 'targeted': 2, 'Monday,': 2, 'two': 2, 'restive': 2, 'commander': 2, 'Pakistan': 2, 'Tuesday.': 2, 'an': 2, 'evening': 2, 'police': 2, 'conducted': 2, 'Kot': 2, 'Monday': 2, 'Chardara': 2, 'for': 2, 'Provincial': 2, 'near': 2, 'further': 1, 'added': 1, 'Friday': 1, 'Deh': 1, 'Bala': 1, 'based': 1, 'Afghanistan': 1, 'Saturday.': 1, 'twenty': 1, 'four': 1, 'Khogyani': 1, 'districts.': 1, 'strikes': 1, 'hours.': 1, 'At': 1, 'six': 1, 'or': 1, 'wounded': 1, 'eastern': 1, 'Afghanistan,': 1, 'military': 1, 'Wednesday.': 1, 'unmanned': 1, 'aerial': 1, 'vehicles': 1, 'hideout': 1, 'Marki': 1, 'Sherzad': 1, 'Saturday': 1, 'suspected': 1, 'notorious': 1, 'Haqqani': 1, 'terrorist': 1, 'network': 1, 'tribal': 1, 'regions': 1, 'official': 1, 'statement,': 1, 'Ghani': 1, 'Khel': 1, 'commandment': 1, 'Nazian': 1, 'Mamand': 1, 'Friday,': 1, 'ten': 1, 'insurgents': 1, 'Bati': 1, 'office,': 1, 'Sarwaza': 1, 'targeting': 1, 'loyalists': 1, 'terror': 1, 'group': 1, 'evening.': 1, 'spokesman': 1, 'Kunduz': 1, 'police,': 1, 'Inamuddin': 1, 'Rahmani,': 1, 'confirmed': 1, 'governor': 1, 'Fazlullah': 1, 'Wahidi': 1, 'residential': 1, 'Manogi': 1, 'Colonel': 1, 'Hazrat': 1, 'Hussain': 1, 'Mashriqiwal,': 1, 'spokesperson': 1, 'headquarters': 1, 'Unmanned': 1, 'Aerial': 1, 'Vehicle': 1, '(UAV)': 1, 'attack': 1, 'Bandar': 1, 'District': 1, 'around': 1, '04:00': 1, 'PM': 1, 'chief': 1, 'Gen.': 1, 'Abdul': 1, 'Habib': 1, 'Syed': 1, 'Kheli': 1, 'confirming': 1, 'report': 1, 'Chapa': 1, 'Dara': 1, 'Intelligence': 1, 'residents': 1, 'quoted': 1, 'Reuters': 1, 'said,': 1, 'Maulvi': 1, 'Nazir': 1, 'Wazir,': 1, 'also': 1, 'known': 1, 'as': 1, 'Mullah': 1, 'Nazir,': 1, 'important': 1, 'from': 1, 'Wazir': 1, 'tribe,': 1, 'when': 1, 'missiles': 1, 'struck': 1, 'house': 1, 'Angoor': 1, 'Adda,': 1, 'capital': 1, 'Wana,': 1, 'South': 1, 'Waziristan,': 1, 'border.': 1, 'Pakistani': 1, 'seven': 1, 'people': 1, 'three': 1, 'others': 1, 'injured': 1, 'following': 1, 'northwest': 1, 'Friday.': 1})\n"
     ]
    }
   ],
   "source": [
    "counter = collections.Counter([])\n",
    "for article in articles:\n",
    "    sentence = get_sentence_label(get_object_or_None(DateEntity, seed=article))\n",
    "    counter += collections.Counter(sentence.split())\n",
    "print(counter)"
   ]
  },
  {
   "cell_type": "code",
   "execution_count": null,
   "metadata": {},
   "outputs": [],
   "source": []
  }
 ],
 "metadata": {
  "kernelspec": {
   "display_name": "Django Shell-Plus",
   "language": "python",
   "name": "django_extensions"
  },
  "language_info": {
   "codemirror_mode": {
    "name": "ipython",
    "version": 3
   },
   "file_extension": ".py",
   "mimetype": "text/x-python",
   "name": "python",
   "nbconvert_exporter": "python",
   "pygments_lexer": "ipython3",
   "version": "3.7.1"
  }
 },
 "nbformat": 4,
 "nbformat_minor": 2
}
